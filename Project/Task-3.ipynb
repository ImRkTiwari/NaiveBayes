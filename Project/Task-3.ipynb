{
 "cells": [
  {
   "cell_type": "code",
   "execution_count": 1,
   "id": "47edb70b",
   "metadata": {},
   "outputs": [],
   "source": [
    "import pandas as pd\n",
    "from sklearn.model_selection import train_test_split\n",
    "from sklearn.preprocessing import StandardScaler\n",
    "from sklearn.naive_bayes import GaussianNB, MultinomialNB\n",
    "from sklearn.metrics import accuracy_score, confusion_matrix"
   ]
  },
  {
   "cell_type": "code",
   "execution_count": 2,
   "id": "b5c81aca",
   "metadata": {},
   "outputs": [],
   "source": [
    "# Load the Iris dataset\n",
    "iris_df = pd.read_csv(\"Iris.csv\")"
   ]
  },
  {
   "cell_type": "code",
   "execution_count": 3,
   "id": "16f9c7d2",
   "metadata": {},
   "outputs": [],
   "source": [
    "# Preprocessing steps\n",
    "X = iris_df.drop(columns=['Species'])  # Features\n",
    "Y = iris_df['Species']  # Target variable"
   ]
  },
  {
   "cell_type": "code",
   "execution_count": 4,
   "id": "fcc5778a",
   "metadata": {},
   "outputs": [],
   "source": [
    "# Split the dataset into training and testing sets\n",
    "X_train, X_test, Y_train, Y_test = train_test_split(X, Y, test_size=0.3, random_state=42)\n"
   ]
  },
  {
   "cell_type": "code",
   "execution_count": 5,
   "id": "8e629f51",
   "metadata": {},
   "outputs": [],
   "source": [
    "# Feature scaling (required for Gaussian Naive Bayes)\n",
    "scaler = StandardScaler()\n",
    "X_train_scaled = scaler.fit_transform(X_train)\n",
    "X_test_scaled = scaler.transform(X_test)\n"
   ]
  },
  {
   "cell_type": "code",
   "execution_count": 6,
   "id": "4077921c",
   "metadata": {},
   "outputs": [],
   "source": [
    "# Gaussian Naive Bayes\n",
    "gnb = GaussianNB()\n",
    "gnb.fit(X_train_scaled, Y_train)\n",
    "gnb_predictions = gnb.predict(X_test_scaled)"
   ]
  },
  {
   "cell_type": "code",
   "execution_count": 7,
   "id": "8a01bbee",
   "metadata": {},
   "outputs": [],
   "source": [
    "# Multinomial Naive Bayes (requires non-negative features)\n",
    "mnb = MultinomialNB()\n",
    "mnb.fit(X_train, Y_train)\n",
    "mnb_predictions = mnb.predict(X_test)"
   ]
  },
  {
   "cell_type": "code",
   "execution_count": 8,
   "id": "e8e999d4",
   "metadata": {},
   "outputs": [],
   "source": [
    "# Evaluation metrics\n",
    "gnb_accuracy = accuracy_score(Y_test, gnb_predictions)\n",
    "mnb_accuracy = accuracy_score(Y_test, mnb_predictions)"
   ]
  },
  {
   "cell_type": "code",
   "execution_count": 9,
   "id": "6d12ba62",
   "metadata": {},
   "outputs": [],
   "source": [
    "gnb_conf_matrix = confusion_matrix(Y_test, gnb_predictions)\n",
    "mnb_conf_matrix = confusion_matrix(Y_test, mnb_predictions)"
   ]
  },
  {
   "cell_type": "code",
   "execution_count": 10,
   "id": "235bc7e0",
   "metadata": {},
   "outputs": [
    {
     "name": "stdout",
     "output_type": "stream",
     "text": [
      "Evaluation Metrics for Gaussian Naive Bayes:\n",
      "Accuracy: 1.0\n",
      "Confusion Matrix:\n",
      " [[19  0  0]\n",
      " [ 0 13  0]\n",
      " [ 0  0 13]]\n",
      "\n",
      "Evaluation Metrics for Multinomial Naive Bayes:\n",
      "Accuracy: 0.9555555555555556\n",
      "Confusion Matrix:\n",
      " [[17  2  0]\n",
      " [ 0 13  0]\n",
      " [ 0  0 13]]\n"
     ]
    }
   ],
   "source": [
    "# Print and compare evaluation metrics\n",
    "print(\"Evaluation Metrics for Gaussian Naive Bayes:\")\n",
    "print(\"Accuracy:\", gnb_accuracy)\n",
    "print(\"Confusion Matrix:\\n\", gnb_conf_matrix)\n",
    "\n",
    "print(\"\\nEvaluation Metrics for Multinomial Naive Bayes:\")\n",
    "print(\"Accuracy:\", mnb_accuracy)\n",
    "print(\"Confusion Matrix:\\n\", mnb_conf_matrix)"
   ]
  },
  {
   "cell_type": "code",
   "execution_count": null,
   "id": "169360fb",
   "metadata": {},
   "outputs": [],
   "source": []
  }
 ],
 "metadata": {
  "kernelspec": {
   "display_name": "Python 3",
   "language": "python",
   "name": "python3"
  },
  "language_info": {
   "codemirror_mode": {
    "name": "ipython",
    "version": 3
   },
   "file_extension": ".py",
   "mimetype": "text/x-python",
   "name": "python",
   "nbconvert_exporter": "python",
   "pygments_lexer": "ipython3",
   "version": "3.8.8"
  }
 },
 "nbformat": 4,
 "nbformat_minor": 5
}
