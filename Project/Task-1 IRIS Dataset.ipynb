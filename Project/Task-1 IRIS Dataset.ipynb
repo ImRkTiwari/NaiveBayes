{
 "cells": [
  {
   "cell_type": "markdown",
   "id": "d9b7a65a",
   "metadata": {},
   "source": [
    "#### Objective: To understand the Naive bayes algorithm and different types of NB for classification task"
   ]
  },
  {
   "cell_type": "code",
   "execution_count": 1,
   "id": "be221b86",
   "metadata": {},
   "outputs": [],
   "source": [
    "import pandas as pd\n",
    "import numpy as np"
   ]
  },
  {
   "cell_type": "code",
   "execution_count": 6,
   "id": "9e82fe01",
   "metadata": {},
   "outputs": [
    {
     "name": "stdout",
     "output_type": "stream",
     "text": [
      "First few rows of the dataset:\n",
      "   Id  SepalLengthCm  SepalWidthCm  PetalLengthCm  PetalWidthCm      Species\n",
      "0   1            5.1           3.5            1.4           0.2  Iris-setosa\n",
      "1   2            4.9           3.0            1.4           0.2  Iris-setosa\n",
      "2   3            4.7           3.2            1.3           0.2  Iris-setosa\n",
      "3   4            4.6           3.1            1.5           0.2  Iris-setosa\n",
      "4   5            5.0           3.6            1.4           0.2  Iris-setosa\n"
     ]
    }
   ],
   "source": [
    "dataset = pd.read_csv(\"Iris.csv\")\n",
    "print(\"First few rows of the dataset:\")\n",
    "print(dataset.head())"
   ]
  },
  {
   "cell_type": "code",
   "execution_count": 5,
   "id": "dfbdf486",
   "metadata": {},
   "outputs": [
    {
     "name": "stdout",
     "output_type": "stream",
     "text": [
      "\n",
      "Statistical summary of the dataset:\n",
      "               Id  SepalLengthCm  SepalWidthCm  PetalLengthCm  PetalWidthCm\n",
      "count  150.000000     150.000000    150.000000     150.000000    150.000000\n",
      "mean    75.500000       5.843333      3.054000       3.758667      1.198667\n",
      "std     43.445368       0.828066      0.433594       1.764420      0.763161\n",
      "min      1.000000       4.300000      2.000000       1.000000      0.100000\n",
      "25%     38.250000       5.100000      2.800000       1.600000      0.300000\n",
      "50%     75.500000       5.800000      3.000000       4.350000      1.300000\n",
      "75%    112.750000       6.400000      3.300000       5.100000      1.800000\n",
      "max    150.000000       7.900000      4.400000       6.900000      2.500000\n"
     ]
    }
   ],
   "source": [
    "print(\"\\nStatistical summary of the dataset:\")\n",
    "print(dataset.describe())"
   ]
  },
  {
   "cell_type": "code",
   "execution_count": 27,
   "id": "1524128d",
   "metadata": {},
   "outputs": [
    {
     "name": "stdout",
     "output_type": "stream",
     "text": [
      "Id               0\n",
      "SepalLengthCm    0\n",
      "SepalWidthCm     0\n",
      "PetalLengthCm    0\n",
      "PetalWidthCm     0\n",
      "Species          0\n",
      "dtype: int64\n"
     ]
    }
   ],
   "source": [
    "print(dataset.isna().sum())"
   ]
  },
  {
   "cell_type": "code",
   "execution_count": 7,
   "id": "05a36034",
   "metadata": {},
   "outputs": [
    {
     "name": "stdout",
     "output_type": "stream",
     "text": [
      "\n",
      "Shape of the dataset:\n",
      "(150, 6)\n"
     ]
    }
   ],
   "source": [
    "print(\"\\nShape of the dataset:\")\n",
    "print(dataset.shape)"
   ]
  },
  {
   "cell_type": "code",
   "execution_count": 10,
   "id": "8713954f",
   "metadata": {},
   "outputs": [],
   "source": [
    "X = dataset.drop(columns=['Species'])  # Features (inputs)\n",
    "Y = dataset['Species']  # Target variable (output)\n"
   ]
  },
  {
   "cell_type": "code",
   "execution_count": 11,
   "id": "310311de",
   "metadata": {},
   "outputs": [
    {
     "name": "stdout",
     "output_type": "stream",
     "text": [
      "Shape of features (X): (150, 5)\n",
      "Shape of target variable (Y): (150,)\n"
     ]
    }
   ],
   "source": [
    "print(\"Shape of features (X):\", X.shape)\n",
    "print(\"Shape of target variable (Y):\", Y.shape)"
   ]
  },
  {
   "cell_type": "code",
   "execution_count": 13,
   "id": "14d05750",
   "metadata": {},
   "outputs": [],
   "source": [
    "from sklearn.preprocessing import LabelEncoder\n",
    "label_encoder = LabelEncoder()\n",
    "Y_encoded = label_encoder.fit_transform(Y)"
   ]
  },
  {
   "cell_type": "code",
   "execution_count": 15,
   "id": "0552f7b2",
   "metadata": {},
   "outputs": [
    {
     "name": "stdout",
     "output_type": "stream",
     "text": [
      "\n",
      "For ratio 0.6-0.4:\n",
      "Shape of X_train: (90, 5)\n",
      "Shape of X_test: (60, 5)\n",
      "Shape of Y_train: (90,)\n",
      "Shape of Y_test: (60,)\n",
      "\n",
      "For ratio 0.5-0.5:\n",
      "Shape of X_train: (75, 5)\n",
      "Shape of X_test: (75, 5)\n",
      "Shape of Y_train: (75,)\n",
      "Shape of Y_test: (75,)\n",
      "\n",
      "For ratio 0.7-0.3:\n",
      "Shape of X_train: (105, 5)\n",
      "Shape of X_test: (45, 5)\n",
      "Shape of Y_train: (105,)\n",
      "Shape of Y_test: (45,)\n"
     ]
    }
   ],
   "source": [
    "from sklearn.model_selection import train_test_split\n",
    "ratios = [(0.6, 0.4), (0.5, 0.5), (0.7, 0.3)]  # Ratios for splitting\n",
    "for ratio in ratios:\n",
    "    train_ratio, test_ratio = ratio\n",
    "    X_train, X_test, Y_train, Y_test = train_test_split(X, Y_encoded, test_size=test_ratio, random_state=42)\n",
    "    \n",
    "    # Print the shapes of training and testing sets\n",
    "    print(f\"\\nFor ratio {train_ratio}-{test_ratio}:\")\n",
    "    print(\"Shape of X_train:\", X_train.shape)\n",
    "    print(\"Shape of X_test:\", X_test.shape)\n",
    "    print(\"Shape of Y_train:\", Y_train.shape)\n",
    "    print(\"Shape of Y_test:\", Y_test.shape)"
   ]
  },
  {
   "cell_type": "code",
   "execution_count": 26,
   "id": "402cfb13",
   "metadata": {},
   "outputs": [
    {
     "name": "stdout",
     "output_type": "stream",
     "text": [
      "\n",
      "For ratio 0.6-0.4:\n",
      "Random seed 42:\n",
      "Shape of X_train: (90, 5)\n",
      "Shape of X_test: (60, 5)\n",
      "Shape of Y_train: (90,)\n",
      "Shape of Y_test: (60,)\n",
      "Random seed 123:\n",
      "Shape of X_train: (90, 5)\n",
      "Shape of X_test: (60, 5)\n",
      "Shape of Y_train: (90,)\n",
      "Shape of Y_test: (60,)\n",
      "Random seed 456:\n",
      "Shape of X_train: (90, 5)\n",
      "Shape of X_test: (60, 5)\n",
      "Shape of Y_train: (90,)\n",
      "Shape of Y_test: (60,)\n",
      "\n",
      "For ratio 0.5-0.5:\n",
      "Random seed 42:\n",
      "Shape of X_train: (75, 5)\n",
      "Shape of X_test: (75, 5)\n",
      "Shape of Y_train: (75,)\n",
      "Shape of Y_test: (75,)\n",
      "Random seed 123:\n",
      "Shape of X_train: (75, 5)\n",
      "Shape of X_test: (75, 5)\n",
      "Shape of Y_train: (75,)\n",
      "Shape of Y_test: (75,)\n",
      "Random seed 456:\n",
      "Shape of X_train: (75, 5)\n",
      "Shape of X_test: (75, 5)\n",
      "Shape of Y_train: (75,)\n",
      "Shape of Y_test: (75,)\n",
      "\n",
      "For ratio 0.7-0.3:\n",
      "Random seed 42:\n",
      "Shape of X_train: (105, 5)\n",
      "Shape of X_test: (45, 5)\n",
      "Shape of Y_train: (105,)\n",
      "Shape of Y_test: (45,)\n",
      "Random seed 123:\n",
      "Shape of X_train: (105, 5)\n",
      "Shape of X_test: (45, 5)\n",
      "Shape of Y_train: (105,)\n",
      "Shape of Y_test: (45,)\n",
      "Random seed 456:\n",
      "Shape of X_train: (105, 5)\n",
      "Shape of X_test: (45, 5)\n",
      "Shape of Y_train: (105,)\n",
      "Shape of Y_test: (45,)\n"
     ]
    }
   ],
   "source": [
    "ratios = [(0.6, 0.4), (0.5, 0.5), (0.7, 0.3)]  # Ratios for splitting\n",
    "random_seeds = [42, 123, 456]  # Random seed values for shuffling\n",
    "\n",
    "for ratio in ratios:\n",
    "    train_ratio, test_ratio = ratio\n",
    "    print(f\"\\nFor ratio {train_ratio}-{test_ratio}:\")\n",
    "    \n",
    "    for seed in random_seeds:\n",
    "        X_train, X_test, Y_train, Y_test = train_test_split(X, Y_encoded, test_size=test_ratio, random_state=seed)\n",
    "        \n",
    "        # Print the shapes of training and testing sets\n",
    "        print(f\"Random seed {seed}:\")\n",
    "        print(\"Shape of X_train:\", X_train.shape)\n",
    "        print(\"Shape of X_test:\", X_test.shape)\n",
    "        print(\"Shape of Y_train:\", Y_train.shape)\n",
    "        print(\"Shape of Y_test:\", Y_test.shape)"
   ]
  },
  {
   "cell_type": "code",
   "execution_count": 20,
   "id": "99b08780",
   "metadata": {},
   "outputs": [
    {
     "name": "stdout",
     "output_type": "stream",
     "text": [
      "Accuracy: 1.0\n"
     ]
    }
   ],
   "source": [
    "from sklearn.naive_bayes import GaussianNB\n",
    "from sklearn.metrics import accuracy_score\n",
    "\n",
    "# Initialize Gaussian Naive Bayes classifier\n",
    "naive_bayes_classifier = GaussianNB()\n",
    "\n",
    "# Train the classifier on the training data\n",
    "naive_bayes_classifier.fit(X_train, Y_train)\n",
    "\n",
    "# Predict the labels for the test data\n",
    "Y_pred = naive_bayes_classifier.predict(X_test)\n",
    "\n",
    "# Calculate accuracy\n",
    "accuracy = accuracy_score(Y_test, Y_pred)\n",
    "print(\"Accuracy:\", accuracy)"
   ]
  },
  {
   "cell_type": "code",
   "execution_count": 21,
   "id": "10bfbaf3",
   "metadata": {},
   "outputs": [
    {
     "name": "stdout",
     "output_type": "stream",
     "text": [
      "Confusion Matrix:\n",
      "[[12  0  0]\n",
      " [ 0 20  0]\n",
      " [ 0  0 13]]\n",
      "\n",
      "Accuracy: 1.0\n",
      "F1 Score: 1.0\n",
      "Precision: 1.0\n",
      "Recall: 1.0\n"
     ]
    }
   ],
   "source": [
    "from sklearn.metrics import confusion_matrix, accuracy_score, f1_score, precision_score, recall_score\n",
    "\n",
    "# Calculate confusion matrix\n",
    "conf_matrix = confusion_matrix(Y_test, Y_pred)\n",
    "print(\"Confusion Matrix:\")\n",
    "print(conf_matrix)\n",
    "\n",
    "# Calculate accuracy rate\n",
    "accuracy = accuracy_score(Y_test, Y_pred)\n",
    "print(\"\\nAccuracy:\", accuracy)\n",
    "\n",
    "# Calculate F1 score\n",
    "f1 = f1_score(Y_test, Y_pred, average='weighted')\n",
    "print(\"F1 Score:\", f1)\n",
    "\n",
    "# Calculate precision\n",
    "precision = precision_score(Y_test, Y_pred, average='weighted')\n",
    "print(\"Precision:\", precision)\n",
    "\n",
    "# Calculate recall\n",
    "recall = recall_score(Y_test, Y_pred, average='weighted')\n",
    "print(\"Recall:\", recall)"
   ]
  }
 ],
 "metadata": {
  "kernelspec": {
   "display_name": "Python 3",
   "language": "python",
   "name": "python3"
  },
  "language_info": {
   "codemirror_mode": {
    "name": "ipython",
    "version": 3
   },
   "file_extension": ".py",
   "mimetype": "text/x-python",
   "name": "python",
   "nbconvert_exporter": "python",
   "pygments_lexer": "ipython3",
   "version": "3.8.8"
  }
 },
 "nbformat": 4,
 "nbformat_minor": 5
}
